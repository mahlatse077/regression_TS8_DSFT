{
 "cells": [
  {
   "cell_type": "markdown",
   "metadata": {},
   "source": [
    "# BASIC LINEAR MODEL : EDSA Apple Prices Challenge\n"
   ]
  },
  {
   "cell_type": "markdown",
   "metadata": {},
   "source": [
    "#THE the data  description and procedure of soliving the  defined problem"
   ]
  },
  {
   "cell_type": "code",
   "execution_count": null,
   "metadata": {},
   "outputs": [],
   "source": []
  },
  {
   "cell_type": "code",
   "execution_count": null,
   "metadata": {},
   "outputs": [],
   "source": []
  },
  {
   "cell_type": "markdown",
   "metadata": {},
   "source": [
    "# The first thing we need to do is import the necessary  libabraries and data"
   ]
  },
  {
   "cell_type": "markdown",
   "metadata": {},
   "source": [
    " ** import your liabrary here"
   ]
  },
  {
   "cell_type": "markdown",
   "metadata": {},
   "source": [
    "**import your data here"
   ]
  },
  {
   "cell_type": "markdown",
   "metadata": {},
   "source": [
    "Above we separate the Id column from our test data and you'll see why we do this later on"
   ]
  },
  {
   "cell_type": "markdown",
   "metadata": {},
   "source": [
    "  Confirmatory Data Analysis"
   ]
  },
  {
   "cell_type": "markdown",
   "metadata": {},
   "source": [
    "First we'll take a look at he first few rows pof our training data "
   ]
  },
  {
   "cell_type": "markdown",
   "metadata": {},
   "source": [
    "  change this cell into code and view your data \n",
    "  e,g train.head() "
   ]
  },
  {
   "cell_type": "markdown",
   "metadata": {},
   "source": [
    " this cell will explain the above data .\n",
    " \n",
    "e.g  In the dataframe above we can see that multiple columns have null values, but we can't tell from just this how many columns have null values down the line that we can't see now and we also don't know how many missing values those columns have. The Pandas library can help us address this with the info method. This function tells us what columns are in the dataframe, how many null values they have and what datatype they are."
   ]
  },
  {
   "cell_type": "markdown",
   "metadata": {},
   "source": [
    "on this cell we check how many have null values \n",
    "please change this cell into code\n",
    "train.info()"
   ]
  },
  {
   "cell_type": "markdown",
   "metadata": {},
   "source": [
    "So we can now see which columns have missing values and how much data in that column is missing. Let's take it a step further, let's try and find out what percentage of the data in each collumn the missing values account for with the function we've created below."
   ]
  },
  {
   "cell_type": "code",
   "execution_count": null,
   "metadata": {},
   "outputs": [],
   "source": []
  },
  {
   "cell_type": "markdown",
   "metadata": {},
   "source": [
    "on this cell we will check missing value .using the required algorithm \n",
    "ckeck on ANDA note book for algorithms .\n",
    "# missing values\n",
    "change this cell tho code "
   ]
  },
  {
   "cell_type": "code",
   "execution_count": null,
   "metadata": {},
   "outputs": [],
   "source": []
  },
  {
   "cell_type": "markdown",
   "metadata": {},
   "source": [
    "this cell will help u see how many variables have missing values \n",
    "also convert this into code"
   ]
  },
  {
   "cell_type": "code",
   "execution_count": null,
   "metadata": {},
   "outputs": [],
   "source": []
  },
  {
   "cell_type": "code",
   "execution_count": null,
   "metadata": {},
   "outputs": [],
   "source": []
  }
 ],
 "metadata": {
  "kernelspec": {
   "display_name": "Python 3",
   "language": "python",
   "name": "python3"
  },
  "language_info": {
   "codemirror_mode": {
    "name": "ipython",
    "version": 3
   },
   "file_extension": ".py",
   "mimetype": "text/x-python",
   "name": "python",
   "nbconvert_exporter": "python",
   "pygments_lexer": "ipython3",
   "version": "3.7.4"
  }
 },
 "nbformat": 4,
 "nbformat_minor": 2
}
